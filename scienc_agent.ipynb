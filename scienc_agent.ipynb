{
 "cells": [
  {
   "cell_type": "code",
   "execution_count": null,
   "metadata": {
    "colab": {
     "base_uri": "https://localhost:8080/"
    },
    "collapsed": true,
    "executionInfo": {
     "elapsed": 7785,
     "status": "ok",
     "timestamp": 1754863718676,
     "user": {
      "displayName": "Ameer Hamza",
      "userId": "18363709650412185935"
     },
     "user_tz": -60
    },
    "id": "0bkCfeK4AZ-8",
    "outputId": "10ecea2e-cea6-4cc2-c109-6554fe174a57"
   },
   "outputs": [],
   "source": [
    "!pip install openai-agents"
   ]
  },
  {
   "cell_type": "code",
   "execution_count": null,
   "metadata": {
    "id": "HH2V4q2kArPg"
   },
   "outputs": [],
   "source": [
    "import nest_asyncio\n",
    "nest_asyncio.apply()"
   ]
  },
  {
   "cell_type": "code",
   "execution_count": null,
   "metadata": {
    "id": "PQoSzBbKA4m8"
   },
   "outputs": [],
   "source": [
    "from agents import Agent, Runner, AsyncOpenAI, OpenAIChatCompletionsModel, set_tracing_disabled"
   ]
  },
  {
   "cell_type": "code",
   "execution_count": null,
   "metadata": {
    "id": "ppUembUKBZ8K"
   },
   "outputs": [],
   "source": [
    "from google.colab import userdata\n",
    "gemini_key=userdata.get('Gemini_API_KEY')"
   ]
  },
  {
   "cell_type": "code",
   "execution_count": null,
   "metadata": {
    "id": "J2oa1xj0Ckwu"
   },
   "outputs": [],
   "source": [
    "# Tracing disabled\n",
    "set_tracing_disabled(disabled=True)\n",
    "\n",
    "# 1. Which LLM Service?\n",
    "external_client: AsyncOpenAI = AsyncOpenAI(\n",
    "    api_key=gemini_key,\n",
    "    base_url=\"https://generativelanguage.googleapis.com/v1beta/openai/\",\n",
    ")\n",
    "\n",
    "# 2. Which LLM Model?\n",
    "llm_model: OpenAIChatCompletionsModel = OpenAIChatCompletionsModel(\n",
    "    model=\"gemini-2.5-flash\",\n",
    "    openai_client=external_client\n",
    ")"
   ]
  },
  {
   "cell_type": "code",
   "execution_count": null,
   "metadata": {
    "colab": {
     "base_uri": "https://localhost:8080/"
    },
    "executionInfo": {
     "elapsed": 2401,
     "status": "ok",
     "timestamp": 1754864417145,
     "user": {
      "displayName": "Ameer Hamza",
      "userId": "18363709650412185935"
     },
     "user_tz": -60
    },
    "id": "7bdN39MyDr8g",
    "outputId": "9ef0d165-c834-491f-a98b-d039c217f813"
   },
   "outputs": [
    {
     "name": "stdout",
     "output_type": "stream",
     "text": [
      "\n",
      "CALLING AGENT\n",
      "\n",
      "An atom is the tiniest building block of everything around us – your chair, the air, and even you! It's so small you can't see it, but it makes up all matter in the universe.\n",
      "\n",
      "Why did the atom lose weight?\n",
      "Because it lost a few electrons! They're negatively charged, after all!\n"
     ]
    }
   ],
   "source": [
    "science_agent: Agent = Agent(name=\"ScienceAgent\",\n",
    "                     instructions=\"You are a helpful science assistant, help learn science in fun ways and tell science jokes in between for comic relief,keep your answers short to 3 to 4 line.\",\n",
    "                     model=llm_model) # gemini-2.5 as agent brain - chat completions\n",
    "\n",
    "result: Runner = Runner.run_sync(science_agent, \"What is an atom?\")\n",
    "\n",
    "print(\"\\nCALLING AGENT\\n\")\n",
    "print(result.final_output)"
   ]
  }
 ],
 "metadata": {
  "colab": {
   "authorship_tag": "ABX9TyNA3vjwEQ3EvYDyV/5KF4bT",
   "provenance": [],
   "toc_visible": true
  },
  "kernelspec": {
   "display_name": "Python 3",
   "name": "python3"
  },
  "language_info": {
   "name": "python"
  }
 },
 "nbformat": 4,
 "nbformat_minor": 0
}
